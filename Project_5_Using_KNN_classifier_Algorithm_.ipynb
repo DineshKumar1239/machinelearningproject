{
  "nbformat": 4,
  "nbformat_minor": 0,
  "metadata": {
    "colab": {
      "provenance": [],
      "authorship_tag": "ABX9TyO3UjnQSX3oWpGa3TLJs1Iy",
      "include_colab_link": true
    },
    "kernelspec": {
      "name": "python3",
      "display_name": "Python 3"
    },
    "language_info": {
      "name": "python"
    }
  },
  "cells": [
    {
      "cell_type": "markdown",
      "metadata": {
        "id": "view-in-github",
        "colab_type": "text"
      },
      "source": [
        "<a href=\"https://colab.research.google.com/github/DineshKumar1239/machinelearningproject/blob/main/Project_5_Using_KNN_classifier_Algorithm_.ipynb\" target=\"_parent\"><img src=\"https://colab.research.google.com/assets/colab-badge.svg\" alt=\"Open In Colab\"/></a>"
      ]
    },
    {
      "cell_type": "code",
      "execution_count": null,
      "metadata": {
        "colab": {
          "base_uri": "https://localhost:8080/"
        },
        "id": "2hkSGV_VVDAV",
        "outputId": "3c1cc656-0949-4a45-9e73-8972281da7b1"
      },
      "outputs": [
        {
          "output_type": "stream",
          "name": "stdout",
          "text": [
            "Accuracy: 77.92207792207793\n"
          ]
        }
      ],
      "source": [
        "import numpy as np\n",
        "import numpy as np\n",
        "import pandas as pd\n",
        "from sklearn.model_selection import train_test_split\n",
        "from sklearn.metrics import accuracy_score\n",
        "\n",
        "import statistics\n",
        "\n",
        "class knn_classifier():\n",
        "\n",
        "    def __init__(self, distance_metrics):\n",
        "        self.distance_metrics = distance_metrics\n",
        "\n",
        "    def get_distance_metrics(self, training_data_point, test_data_point):\n",
        "        if self.distance_metrics == \"euclidean\":\n",
        "            dist = 0\n",
        "            for i in range(len(training_data_point) - 1):\n",
        "                dist = dist + (training_data_point[i] - test_data_point[i]) ** 2\n",
        "            euclidean_dist = np.sqrt(dist)\n",
        "            return euclidean_dist\n",
        "\n",
        "        elif self.distance_metrics == \"manhattan\":\n",
        "            dist = 0\n",
        "            for i in range(len(training_data_point) - 1):\n",
        "                dist = dist + abs(training_data_point[i] - test_data_point[i])\n",
        "            manhattan_dist = dist\n",
        "            return manhattan_dist\n",
        "\n",
        "    def nearest_neighbors(self, x_train, test_data, k):\n",
        "        distance_list = []\n",
        "        for training_data in x_train:\n",
        "            distance = self.get_distance_metrics(training_data, test_data)\n",
        "            distance_list.append((training_data, distance))\n",
        "        distance_list.sort(key=lambda x: x[1])\n",
        "        neighbors_list = [x[0] for x in distance_list[:k]]\n",
        "        return neighbors_list\n",
        "\n",
        "    def predict(self, x_train, test_data, k):\n",
        "        neighbors = self.nearest_neighbors(x_train, test_data, k)\n",
        "        labels = [data[-1] for data in neighbors]\n",
        "        predicted_class = statistics.mode(labels)\n",
        "        return predicted_class\n",
        "\n",
        "# Load the dataset\n",
        "diabetes_dataset = pd.read_csv(\"/content/diabetes.csv\")\n",
        "x = diabetes_dataset.drop(columns=\"Outcome\", axis=1)\n",
        "y = diabetes_dataset[\"Outcome\"]\n",
        "\n",
        "# Split the data into training and test sets\n",
        "x_train, x_test, y_train, y_test = train_test_split(x, y, test_size=0.2, stratify=y, random_state=2)\n",
        "x_train = np.insert(x_train.values, 8, y_train.values, axis=1)\n",
        "\n",
        "# Create the KNN classifier instance\n",
        "classifier = knn_classifier(distance_metrics=\"manhattan\")\n",
        "\n",
        "# Make predictions for each data point in the test set\n",
        "y_pred = []\n",
        "x_test_size = len(x_test)\n",
        "\n",
        "for i in range(x_test_size):\n",
        "    prediction = classifier.predict(x_train, x_test.values[i], k=5)\n",
        "    y_pred.append(prediction)\n",
        "\n",
        "# Calculate the accuracy or perform other evaluation as needed\n",
        "accuracy = accuracy_score(y_test, y_pred)\n",
        "print(\"Accuracy:\", accuracy*100)\n"
      ]
    },
    {
      "cell_type": "code",
      "source": [
        "import numpy as np\n",
        "import pandas as pd\n",
        "from sklearn.model_selection import train_test_split\n",
        "from sklearn.metrics import accuracy_score"
      ],
      "metadata": {
        "id": "4oipCfdHVZed"
      },
      "execution_count": null,
      "outputs": []
    },
    {
      "cell_type": "code",
      "source": [
        "import numpy as np\n",
        "import pandas as pd\n",
        "from sklearn.model_selection import train_test_split\n",
        "from sklearn.metrics import accuracy_score"
      ],
      "metadata": {
        "id": "r2YAteBW-4kC"
      },
      "execution_count": null,
      "outputs": []
    },
    {
      "cell_type": "code",
      "source": [],
      "metadata": {
        "id": "7ZrfqmlVVOak"
      },
      "execution_count": null,
      "outputs": []
    }
  ]
}